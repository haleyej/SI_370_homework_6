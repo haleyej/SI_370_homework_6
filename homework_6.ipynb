{
 "cells": [
  {
   "cell_type": "markdown",
   "id": "2ad90f43-1041-40cd-87aa-1ffe3e248d15",
   "metadata": {},
   "source": [
    "<h1>SI 370 Homework 6</h1>\n",
    "Haley Johnson"
   ]
  },
  {
   "cell_type": "code",
   "execution_count": 3,
   "id": "f771c210-6eda-4a43-afdd-ab7b6fec8d6d",
   "metadata": {},
   "outputs": [],
   "source": [
    "import pandas as pd\n",
    "import numpy as np \n",
    "import os \n",
    "\n",
    "from sklearn.metrics import confusion_matrix"
   ]
  },
  {
   "cell_type": "code",
   "execution_count": 5,
   "id": "fda3ebe2-b60c-4438-8e26-b6bb3b617e4a",
   "metadata": {},
   "outputs": [],
   "source": [
    "fake = pd.read_csv('Fake.csv')\n",
    "true = pd.read_csv('True.csv')"
   ]
  },
  {
   "cell_type": "code",
   "execution_count": null,
   "id": "6a1bd9e5-95ff-4e47-9039-ddd41b486baa",
   "metadata": {},
   "outputs": [],
   "source": []
  }
 ],
 "metadata": {
  "kernelspec": {
   "display_name": "Python 3 (ipykernel)",
   "language": "python",
   "name": "python3"
  },
  "language_info": {
   "codemirror_mode": {
    "name": "ipython",
    "version": 3
   },
   "file_extension": ".py",
   "mimetype": "text/x-python",
   "name": "python",
   "nbconvert_exporter": "python",
   "pygments_lexer": "ipython3",
   "version": "3.8.13"
  }
 },
 "nbformat": 4,
 "nbformat_minor": 5
}
