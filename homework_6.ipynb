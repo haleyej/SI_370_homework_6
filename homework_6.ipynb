{
 "cells": [
  {
   "cell_type": "markdown",
   "id": "2ad90f43-1041-40cd-87aa-1ffe3e248d15",
   "metadata": {},
   "source": [
    "<h1>SI 370 Homework 6</h1>\n",
    "Haley Johnson\n",
    "\n",
    "Resources Used:\n",
    "<ul>\n",
    "    <li></li>\n",
    "    <li></li>\n",
    "</ul>"
   ]
  },
  {
   "cell_type": "markdown",
   "id": "cd00caf9-eb59-4388-b24f-74b11fcae85f",
   "metadata": {},
   "source": [
    "TO DO: SOME BACKGROUND ON OVERALL APPROACH"
   ]
  },
  {
   "cell_type": "code",
   "execution_count": 47,
   "id": "938e3fab-7125-4bdf-84d7-cacdb5c81bf6",
   "metadata": {},
   "outputs": [],
   "source": [
    "# pip install -U sentence-transformers"
   ]
  },
  {
   "cell_type": "code",
   "execution_count": 55,
   "id": "f771c210-6eda-4a43-afdd-ab7b6fec8d6d",
   "metadata": {
    "tags": []
   },
   "outputs": [],
   "source": [
    "import pandas as pd\n",
    "import numpy as np \n",
    "import seaborn as sns\n",
    "import matplotlib.pyplot as plt\n",
    "import nltk \n",
    "\n",
    "from sklearn.metrics import confusion_matrix\n",
    "from sklearn.svm import SVC\n",
    "from sklearn.ensemble import ExtraTreesClassifier\n",
    "from sklearn.preprocessing import OneHotEncoder, FunctionTransformer\n",
    "from sklearn.model_selection import train_test_split,GridSearchCV\n",
    "from sklearn.feature_extraction.text import TfidfVectorizer\n",
    "from sklearn.neural_network import MLPClassifier\n",
    "\n",
    "from sentence_transformers import SentenceTransformer"
   ]
  },
  {
   "cell_type": "code",
   "execution_count": 3,
   "id": "9c37c375-3eff-4f66-8256-8046a6bdaadc",
   "metadata": {},
   "outputs": [],
   "source": [
    "sns.set(context = 'notebook', style = 'darkgrid')"
   ]
  },
  {
   "cell_type": "markdown",
   "id": "cf77a52e-e1d3-4f70-a109-2b70fdbf1cf5",
   "metadata": {},
   "source": [
    "<h2>Load in Dataset</h2>"
   ]
  },
  {
   "cell_type": "code",
   "execution_count": 4,
   "id": "fda3ebe2-b60c-4438-8e26-b6bb3b617e4a",
   "metadata": {},
   "outputs": [],
   "source": [
    "fake = pd.read_csv('Fake.csv', encoding = 'utf-8')\n",
    "true = pd.read_csv('True.csv', encoding = 'utf-8')"
   ]
  },
  {
   "cell_type": "code",
   "execution_count": 5,
   "id": "6a1bd9e5-95ff-4e47-9039-ddd41b486baa",
   "metadata": {},
   "outputs": [
    {
     "data": {
      "text/html": [
       "<div>\n",
       "<style scoped>\n",
       "    .dataframe tbody tr th:only-of-type {\n",
       "        vertical-align: middle;\n",
       "    }\n",
       "\n",
       "    .dataframe tbody tr th {\n",
       "        vertical-align: top;\n",
       "    }\n",
       "\n",
       "    .dataframe thead th {\n",
       "        text-align: right;\n",
       "    }\n",
       "</style>\n",
       "<table border=\"1\" class=\"dataframe\">\n",
       "  <thead>\n",
       "    <tr style=\"text-align: right;\">\n",
       "      <th></th>\n",
       "      <th>title</th>\n",
       "      <th>text</th>\n",
       "      <th>subject</th>\n",
       "      <th>date</th>\n",
       "    </tr>\n",
       "  </thead>\n",
       "  <tbody>\n",
       "    <tr>\n",
       "      <th>0</th>\n",
       "      <td>Donald Trump Sends Out Embarrassing New Year’...</td>\n",
       "      <td>Donald Trump just couldn t wish all Americans ...</td>\n",
       "      <td>News</td>\n",
       "      <td>December 31, 2017</td>\n",
       "    </tr>\n",
       "    <tr>\n",
       "      <th>1</th>\n",
       "      <td>Drunk Bragging Trump Staffer Started Russian ...</td>\n",
       "      <td>House Intelligence Committee Chairman Devin Nu...</td>\n",
       "      <td>News</td>\n",
       "      <td>December 31, 2017</td>\n",
       "    </tr>\n",
       "    <tr>\n",
       "      <th>2</th>\n",
       "      <td>Sheriff David Clarke Becomes An Internet Joke...</td>\n",
       "      <td>On Friday, it was revealed that former Milwauk...</td>\n",
       "      <td>News</td>\n",
       "      <td>December 30, 2017</td>\n",
       "    </tr>\n",
       "    <tr>\n",
       "      <th>3</th>\n",
       "      <td>Trump Is So Obsessed He Even Has Obama’s Name...</td>\n",
       "      <td>On Christmas day, Donald Trump announced that ...</td>\n",
       "      <td>News</td>\n",
       "      <td>December 29, 2017</td>\n",
       "    </tr>\n",
       "    <tr>\n",
       "      <th>4</th>\n",
       "      <td>Pope Francis Just Called Out Donald Trump Dur...</td>\n",
       "      <td>Pope Francis used his annual Christmas Day mes...</td>\n",
       "      <td>News</td>\n",
       "      <td>December 25, 2017</td>\n",
       "    </tr>\n",
       "  </tbody>\n",
       "</table>\n",
       "</div>"
      ],
      "text/plain": [
       "                                               title  \\\n",
       "0   Donald Trump Sends Out Embarrassing New Year’...   \n",
       "1   Drunk Bragging Trump Staffer Started Russian ...   \n",
       "2   Sheriff David Clarke Becomes An Internet Joke...   \n",
       "3   Trump Is So Obsessed He Even Has Obama’s Name...   \n",
       "4   Pope Francis Just Called Out Donald Trump Dur...   \n",
       "\n",
       "                                                text subject  \\\n",
       "0  Donald Trump just couldn t wish all Americans ...    News   \n",
       "1  House Intelligence Committee Chairman Devin Nu...    News   \n",
       "2  On Friday, it was revealed that former Milwauk...    News   \n",
       "3  On Christmas day, Donald Trump announced that ...    News   \n",
       "4  Pope Francis used his annual Christmas Day mes...    News   \n",
       "\n",
       "                date  \n",
       "0  December 31, 2017  \n",
       "1  December 31, 2017  \n",
       "2  December 30, 2017  \n",
       "3  December 29, 2017  \n",
       "4  December 25, 2017  "
      ]
     },
     "execution_count": 5,
     "metadata": {},
     "output_type": "execute_result"
    }
   ],
   "source": [
    "fake.head()"
   ]
  },
  {
   "cell_type": "code",
   "execution_count": 6,
   "id": "fc527a7d-cb3d-4000-a2bf-42cc3ff0706f",
   "metadata": {},
   "outputs": [
    {
     "data": {
      "text/html": [
       "<div>\n",
       "<style scoped>\n",
       "    .dataframe tbody tr th:only-of-type {\n",
       "        vertical-align: middle;\n",
       "    }\n",
       "\n",
       "    .dataframe tbody tr th {\n",
       "        vertical-align: top;\n",
       "    }\n",
       "\n",
       "    .dataframe thead th {\n",
       "        text-align: right;\n",
       "    }\n",
       "</style>\n",
       "<table border=\"1\" class=\"dataframe\">\n",
       "  <thead>\n",
       "    <tr style=\"text-align: right;\">\n",
       "      <th></th>\n",
       "      <th>title</th>\n",
       "      <th>text</th>\n",
       "      <th>subject</th>\n",
       "      <th>date</th>\n",
       "    </tr>\n",
       "  </thead>\n",
       "  <tbody>\n",
       "    <tr>\n",
       "      <th>0</th>\n",
       "      <td>As U.S. budget fight looms, Republicans flip t...</td>\n",
       "      <td>WASHINGTON (Reuters) - The head of a conservat...</td>\n",
       "      <td>politicsNews</td>\n",
       "      <td>December 31, 2017</td>\n",
       "    </tr>\n",
       "    <tr>\n",
       "      <th>1</th>\n",
       "      <td>U.S. military to accept transgender recruits o...</td>\n",
       "      <td>WASHINGTON (Reuters) - Transgender people will...</td>\n",
       "      <td>politicsNews</td>\n",
       "      <td>December 29, 2017</td>\n",
       "    </tr>\n",
       "    <tr>\n",
       "      <th>2</th>\n",
       "      <td>Senior U.S. Republican senator: 'Let Mr. Muell...</td>\n",
       "      <td>WASHINGTON (Reuters) - The special counsel inv...</td>\n",
       "      <td>politicsNews</td>\n",
       "      <td>December 31, 2017</td>\n",
       "    </tr>\n",
       "    <tr>\n",
       "      <th>3</th>\n",
       "      <td>FBI Russia probe helped by Australian diplomat...</td>\n",
       "      <td>WASHINGTON (Reuters) - Trump campaign adviser ...</td>\n",
       "      <td>politicsNews</td>\n",
       "      <td>December 30, 2017</td>\n",
       "    </tr>\n",
       "    <tr>\n",
       "      <th>4</th>\n",
       "      <td>Trump wants Postal Service to charge 'much mor...</td>\n",
       "      <td>SEATTLE/WASHINGTON (Reuters) - President Donal...</td>\n",
       "      <td>politicsNews</td>\n",
       "      <td>December 29, 2017</td>\n",
       "    </tr>\n",
       "  </tbody>\n",
       "</table>\n",
       "</div>"
      ],
      "text/plain": [
       "                                               title  \\\n",
       "0  As U.S. budget fight looms, Republicans flip t...   \n",
       "1  U.S. military to accept transgender recruits o...   \n",
       "2  Senior U.S. Republican senator: 'Let Mr. Muell...   \n",
       "3  FBI Russia probe helped by Australian diplomat...   \n",
       "4  Trump wants Postal Service to charge 'much mor...   \n",
       "\n",
       "                                                text       subject  \\\n",
       "0  WASHINGTON (Reuters) - The head of a conservat...  politicsNews   \n",
       "1  WASHINGTON (Reuters) - Transgender people will...  politicsNews   \n",
       "2  WASHINGTON (Reuters) - The special counsel inv...  politicsNews   \n",
       "3  WASHINGTON (Reuters) - Trump campaign adviser ...  politicsNews   \n",
       "4  SEATTLE/WASHINGTON (Reuters) - President Donal...  politicsNews   \n",
       "\n",
       "                 date  \n",
       "0  December 31, 2017   \n",
       "1  December 29, 2017   \n",
       "2  December 31, 2017   \n",
       "3  December 30, 2017   \n",
       "4  December 29, 2017   "
      ]
     },
     "execution_count": 6,
     "metadata": {},
     "output_type": "execute_result"
    }
   ],
   "source": [
    "true.head()"
   ]
  },
  {
   "cell_type": "code",
   "execution_count": 7,
   "id": "4d0545fc-772a-4caa-a449-5558304025d3",
   "metadata": {},
   "outputs": [],
   "source": [
    "true['label'] = 1\n",
    "fake['label'] = 0\n",
    "df = pd.concat([true, fake])\n",
    "df = df.reset_index(drop = True)"
   ]
  },
  {
   "cell_type": "markdown",
   "id": "e83b4172-f7b1-44ff-b832-891f70e117dc",
   "metadata": {},
   "source": [
    "<h2>Exploratory Data Analysis</h2>"
   ]
  },
  {
   "cell_type": "markdown",
   "id": "ca7c0df5-4a6c-4206-b5b9-08e9210a9f45",
   "metadata": {},
   "source": [
    "There are no missing values in the dataset"
   ]
  },
  {
   "cell_type": "code",
   "execution_count": 8,
   "id": "1e673d1a-2c4f-4dec-8016-a7db0c723789",
   "metadata": {},
   "outputs": [
    {
     "name": "stdout",
     "output_type": "stream",
     "text": [
      "Missing values in 'title': 0\n",
      "Missing values in 'text': 0\n",
      "Missing values in 'subject': 0\n",
      "Missing values in 'date': 0\n",
      "Missing values in 'label': 0\n"
     ]
    }
   ],
   "source": [
    "for col in df.columns:\n",
    "    print(f\"Missing values in '{col}': {pd.isnull(df[col]).sum()}\")"
   ]
  },
  {
   "cell_type": "markdown",
   "id": "33e4a8f5-323b-4052-9125-e4959ece6b29",
   "metadata": {},
   "source": [
    "However, there are 5305 duplicate rows. We'll remove duplicates from the dataframe, so there's only one entry per story."
   ]
  },
  {
   "cell_type": "code",
   "execution_count": 9,
   "id": "7c88ba11-7307-4acc-9c7e-4e61818b7315",
   "metadata": {},
   "outputs": [
    {
     "data": {
      "text/plain": [
       "(5305, 3)"
      ]
     },
     "execution_count": 9,
     "metadata": {},
     "output_type": "execute_result"
    }
   ],
   "source": [
    "counts = df.groupby(['title', 'text']).size().reset_index(name = 'count')\n",
    "duplicates = counts[counts['count'] > 1]\n",
    "duplicates.shape"
   ]
  },
  {
   "cell_type": "code",
   "execution_count": 11,
   "id": "9741272d-0f9f-4e73-a7ea-35d38a9ec0d8",
   "metadata": {},
   "outputs": [],
   "source": [
    "df = df.drop_duplicates(['text', 'title'])"
   ]
  },
  {
   "cell_type": "markdown",
   "id": "7beda41d-39c2-4a74-b60c-1f896556d090",
   "metadata": {},
   "source": [
    "This classes in the dataset are roughly balanced — 54.2% of the articles are real and 45.8% are fake. "
   ]
  },
  {
   "cell_type": "code",
   "execution_count": 12,
   "id": "c41461b3-7061-478e-8046-3c150a04d8e8",
   "metadata": {},
   "outputs": [
    {
     "data": {
      "text/plain": [
       "1    0.542053\n",
       "0    0.457947\n",
       "Name: label, dtype: float64"
      ]
     },
     "execution_count": 12,
     "metadata": {},
     "output_type": "execute_result"
    }
   ],
   "source": [
    "df.label.value_counts() / df.shape[0]"
   ]
  },
  {
   "cell_type": "markdown",
   "id": "c56186de-a419-441e-9cad-dff459091982",
   "metadata": {},
   "source": [
    "However, it appears that the subjects are not evenly distributed across fake and real news sources. In fact, real news articles use completely different subject labels than fake news. "
   ]
  },
  {
   "cell_type": "code",
   "execution_count": 13,
   "id": "9efc3c84-d385-4ab3-9680-665c11d98797",
   "metadata": {},
   "outputs": [
    {
     "data": {
      "text/html": [
       "<div>\n",
       "<style scoped>\n",
       "    .dataframe tbody tr th:only-of-type {\n",
       "        vertical-align: middle;\n",
       "    }\n",
       "\n",
       "    .dataframe tbody tr th {\n",
       "        vertical-align: top;\n",
       "    }\n",
       "\n",
       "    .dataframe thead th {\n",
       "        text-align: right;\n",
       "    }\n",
       "</style>\n",
       "<table border=\"1\" class=\"dataframe\">\n",
       "  <thead>\n",
       "    <tr style=\"text-align: right;\">\n",
       "      <th>subject</th>\n",
       "      <th>Government News</th>\n",
       "      <th>News</th>\n",
       "      <th>US_News</th>\n",
       "      <th>left-news</th>\n",
       "      <th>politics</th>\n",
       "      <th>politicsNews</th>\n",
       "      <th>worldnews</th>\n",
       "    </tr>\n",
       "    <tr>\n",
       "      <th>label</th>\n",
       "      <th></th>\n",
       "      <th></th>\n",
       "      <th></th>\n",
       "      <th></th>\n",
       "      <th></th>\n",
       "      <th></th>\n",
       "      <th></th>\n",
       "    </tr>\n",
       "  </thead>\n",
       "  <tbody>\n",
       "    <tr>\n",
       "      <th>0</th>\n",
       "      <td>532</td>\n",
       "      <td>9050</td>\n",
       "      <td>783</td>\n",
       "      <td>705</td>\n",
       "      <td>6838</td>\n",
       "      <td>0</td>\n",
       "      <td>0</td>\n",
       "    </tr>\n",
       "    <tr>\n",
       "      <th>1</th>\n",
       "      <td>0</td>\n",
       "      <td>0</td>\n",
       "      <td>0</td>\n",
       "      <td>0</td>\n",
       "      <td>0</td>\n",
       "      <td>11217</td>\n",
       "      <td>9980</td>\n",
       "    </tr>\n",
       "  </tbody>\n",
       "</table>\n",
       "</div>"
      ],
      "text/plain": [
       "subject  Government News  News  US_News  left-news  politics  politicsNews  \\\n",
       "label                                                                        \n",
       "0                    532  9050      783        705      6838             0   \n",
       "1                      0     0        0          0         0         11217   \n",
       "\n",
       "subject  worldnews  \n",
       "label               \n",
       "0                0  \n",
       "1             9980  "
      ]
     },
     "execution_count": 13,
     "metadata": {},
     "output_type": "execute_result"
    }
   ],
   "source": [
    "pd.crosstab(df.label, df.subject)"
   ]
  },
  {
   "cell_type": "code",
   "execution_count": 14,
   "id": "da610bf7-5cba-43e4-85c3-0dce880efb2a",
   "metadata": {},
   "outputs": [
    {
     "name": "stderr",
     "output_type": "stream",
     "text": [
      "/var/folders/49/3f_15lzd6b57lnzlk4m_9k440000gn/T/ipykernel_31342/3783124482.py:2: FutureWarning: Support for multi-dimensional indexing (e.g. `obj[:, None]`) is deprecated and will be removed in a future version.  Convert to a numpy array before indexing instead.\n",
      "  crosstab = crosstab / crosstab.astype(float).sum(axis = 1)[:, np.newaxis]\n"
     ]
    },
    {
     "data": {
      "text/plain": [
       "[Text(0.5, 1.0, 'Subjects by Fake/Real Status'),\n",
       " Text(0.5, 19.909374999999997, 'Subject'),\n",
       " Text(47.25, 0.5, 'Category')]"
      ]
     },
     "execution_count": 14,
     "metadata": {},
     "output_type": "execute_result"
    },
    {
     "data": {
      "image/png": "[encoded data removed]",
      "text/plain": [
       "<Figure size 640x480 with 2 Axes>"
      ]
     },
     "metadata": {},
     "output_type": "display_data"
    }
   ],
   "source": [
    "crosstab = pd.crosstab(df.label, df.subject)\n",
    "crosstab = crosstab / crosstab.astype(float).sum(axis = 1)[:, np.newaxis]\n",
    "\n",
    "f = sns.heatmap(crosstab)\n",
    "f.set(title = 'Subjects by Fake/Real Status', xlabel = 'Subject', ylabel = 'Category')"
   ]
  },
  {
   "cell_type": "markdown",
   "id": "1fdfa548-1ec1-4de5-870a-3dea739f97ea",
   "metadata": {},
   "source": [
    "<h2>Preprocess Text</h2>"
   ]
  },
  {
   "cell_type": "markdown",
   "id": "fb094b7c-0038-4034-ab70-984ac918dd04",
   "metadata": {},
   "source": [
    "To preprocess our text, we'll normalize it, remove punctuation, and remove URLS. Thankfully, the method we use later in this notebook to transform text into machine readable inputs will remove stopwords for us. "
   ]
  },
  {
   "cell_type": "code",
   "execution_count": 15,
   "id": "53237683-55d8-4ba7-9b31-48adb2f168c6",
   "metadata": {},
   "outputs": [],
   "source": [
    "def clean_texts(df, punctuation = ['!', '?', '—', '/', '...', \",\", \".\"]):\n",
    "    '''\n",
    "    Takes in dataframe and does basic text preprocessing\n",
    "    Assumes that the text is in a column called \"text\"\n",
    "    '''\n",
    "    # make lower case \n",
    "    df.text = df.text.str.lower()\n",
    "    \n",
    "    # remove urls\n",
    "    df.text = df.text.str.replace('http\\S+', '', regex = True)\n",
    "\n",
    "    # fix the quotations\n",
    "    df.text = df.text.str.replace('”', '\"', regex = True)\n",
    "    df.text = df.text.str.replace('“', '\"', regex = True)\n",
    "    df.text = df.text.str.replace('“', '\"', regex = True)\n",
    "    df.text = df.text.str.replace('”', '\"', regex = True)\n",
    "    df.text = df.text.str.replace(\"‘\", \"'\", regex = True)\n",
    "    df.text = df.text.str.replace(\"’\", \"'\", regex = True)\n",
    "    df.text = df.text.str.replace(\"‘\", \"'\", regex = True)\n",
    "    df.text = df.text.str.replace(\"´\", \"'\", regex = True)\n",
    "    df.text = df.text.str.replace(\"`\", \"'\", regex = True)\n",
    "    \n",
    "    # remove other punctuation \n",
    "    for p in punctuation: \n",
    "        df.text = df.text.str.replace(f'punc', '', regex = True)\n",
    "      \n",
    "    return df"
   ]
  },
  {
   "cell_type": "markdown",
   "id": "6d350971-ad46-449d-8155-189f872884ed",
   "metadata": {},
   "source": [
    "<h2>Prepare Test and Train Data</h2>"
   ]
  },
  {
   "cell_type": "code",
   "execution_count": 18,
   "id": "9a1a0c68-d7ad-4f6d-a2ea-8344e5ae46ec",
   "metadata": {},
   "outputs": [],
   "source": [
    "X_train, X_test, y_train, y_test = train_test_split(df.text, df.label, random_state = 42)"
   ]
  },
  {
   "cell_type": "code",
   "execution_count": null,
   "id": "a1ac0e5f-1d2f-420c-a1e6-9f4cb8b62f41",
   "metadata": {},
   "outputs": [],
   "source": [
    "tfidv = TfidfVectorizer(smooth_idf = False, sublinear_tf = False, norm = None, lowercase = True,\n",
    "                     analyzer = 'word', stop_words = 'english')\n",
    "\n",
    "X_train_tfidv = tfidv.fit_transform(X_train)\n",
    "X_test_tfidv = tfidv.transform(X_test)"
   ]
  },
  {
   "cell_type": "code",
   "execution_count": null,
   "id": "99b036d1-ca88-45cd-bbef-999bd2f55a62",
   "metadata": {},
   "outputs": [],
   "source": [
    "#note: this cell takes very long to run! avoid rerunning this!\n",
    "bert_model = SentenceTransformer('mrm8488/bert-tiny-finetuned-squadv2', device = 'cpu')\n",
    "embedding = FunctionTransformer(lambda s : bert_model.encode(s, convert_to_tensor = True, show_progress_bar = False)\n",
    "                                .detach().numpy())\n",
    "\n",
    "X_train_bert = embedding.fit_transform(X_train.to_numpy())\n",
    "X_test_bert = embedding.transform(X_test.to_numpy())"
   ]
  },
  {
   "cell_type": "markdown",
   "id": "9ac60f6e-83ba-4668-919c-d24a19103f0d",
   "metadata": {},
   "source": [
    "<h2>Extra Trees Classifier</h2>\n",
    "Used in conjunction with TFIDV preprocessing"
   ]
  },
  {
   "cell_type": "code",
   "execution_count": 22,
   "id": "a80b45de-ad12-4ea8-bea3-0ef9e3819ef5",
   "metadata": {},
   "outputs": [
    {
     "name": "stdout",
     "output_type": "stream",
     "text": [
      "Fitting 3 folds for each of 4 candidates, totalling 12 fits\n",
      "[CV 1/3] END ...................n_estimators=50;, score=0.968 total time=  53.6s\n",
      "[CV 2/3] END ...................n_estimators=50;, score=0.969 total time= 1.1min\n",
      "[CV 3/3] END ...................n_estimators=50;, score=0.975 total time=  54.1s\n",
      "[CV 1/3] END ..................n_estimators=100;, score=0.971 total time= 2.0min\n",
      "[CV 2/3] END ..................n_estimators=100;, score=0.970 total time= 1.8min\n",
      "[CV 3/3] END ..................n_estimators=100;, score=0.975 total time= 1.8min\n",
      "[CV 1/3] END ..................n_estimators=150;, score=0.973 total time= 2.7min\n",
      "[CV 2/3] END ..................n_estimators=150;, score=0.971 total time= 2.8min\n",
      "[CV 3/3] END ..................n_estimators=150;, score=0.974 total time= 2.5min\n",
      "[CV 1/3] END ..................n_estimators=250;, score=0.974 total time= 5.0min\n",
      "[CV 2/3] END ..................n_estimators=250;, score=0.972 total time= 4.4min\n",
      "[CV 3/3] END ..................n_estimators=250;, score=0.973 total time= 5.1min\n"
     ]
    },
    {
     "data": {
      "text/plain": [
       "GridSearchCV(cv=3, estimator=ExtraTreesClassifier(random_state=42),\n",
       "             param_grid={'n_estimators': [50, 100, 150, 250]}, verbose=3.1)"
      ]
     },
     "execution_count": 22,
     "metadata": {},
     "output_type": "execute_result"
    }
   ],
   "source": [
    "n_estimators = {'n_estimators': [50, 100, 150, 250, 500]}\n",
    "\n",
    "extra_trees = ExtraTreesClassifier(random_state = 42)\n",
    "extra_trees_clf = GridSearchCV(extra_trees, n_estimators, cv = 3, verbose = 3.1)\n",
    "\n",
    "extra_trees_clf.fit(X_train_tfidv, y_train)"
   ]
  },
  {
   "cell_type": "code",
   "execution_count": 24,
   "id": "451c86dd-b927-4734-9034-b8217beadf73",
   "metadata": {},
   "outputs": [
    {
     "data": {
      "text/plain": [
       "({'n_estimators': 250}, 0.9730973813420624)"
      ]
     },
     "execution_count": 24,
     "metadata": {},
     "output_type": "execute_result"
    }
   ],
   "source": [
    "extra_trees_clf.best_params_, extra_trees_clf.best_score_"
   ]
  },
  {
   "cell_type": "markdown",
   "id": "a8e77290-0228-4ff3-99dc-e62a2fb751ec",
   "metadata": {},
   "source": [
    "The extra trees classifier achieves <b>97.29% accuracy</b> on the test data. False positives are more common than false negatives. In fact, very few real news articles were misclassified as fake."
   ]
  },
  {
   "cell_type": "code",
   "execution_count": 25,
   "id": "4d560c7f-ffa0-4998-9985-622af644d335",
   "metadata": {},
   "outputs": [
    {
     "data": {
      "text/plain": [
       "0.9728955712386212"
      ]
     },
     "execution_count": 25,
     "metadata": {},
     "output_type": "execute_result"
    }
   ],
   "source": [
    "extra_trees_clf.score(X_test_tfidv, y_test)"
   ]
  },
  {
   "cell_type": "code",
   "execution_count": 32,
   "id": "025d8c5f-c326-4911-8cdc-40a6587f7bfb",
   "metadata": {},
   "outputs": [
    {
     "data": {
      "image/png": "[encoded data removed]",
      "text/plain": [
       "<Figure size 640x480 with 2 Axes>"
      ]
     },
     "metadata": {},
     "output_type": "display_data"
    }
   ],
   "source": [
    "conf_matrix = confusion_matrix(y_test, extra_trees_clf.predict(X_test_tfidv))\n",
    "normalized_conf_matrix = conf_matrix / conf_matrix.astype(float).sum(axis = 1)[:, np.newaxis]\n",
    "\n",
    "f = sns.heatmap(normalized_conf_matrix, annot = True, fmt = '.2f')\n",
    "_ = f.set(title = 'Normalized Confusion Matrix of News Category Predictions', ylabel = 'Predicted Outcome', xlabel = 'True Outcome')"
   ]
  },
  {
   "cell_type": "markdown",
   "id": "f9aabc3a-faf5-4c1c-b2e9-418b2b8ca640",
   "metadata": {},
   "source": [
    "<h2>Support Vector Classification</h2>\n",
    "Used in conjunction with TFIDV preprocessing"
   ]
  },
  {
   "cell_type": "code",
   "execution_count": 36,
   "id": "2e530116-bb30-4a67-b8ce-4f9018e45d5a",
   "metadata": {},
   "outputs": [
    {
     "name": "stdout",
     "output_type": "stream",
     "text": [
      "Fitting 3 folds for each of 2 candidates, totalling 6 fits\n",
      "[CV 1/3] END .......................gamma=scale;, score=0.988 total time= 2.4min\n",
      "[CV 2/3] END .......................gamma=scale;, score=0.988 total time= 2.2min\n",
      "[CV 3/3] END .......................gamma=scale;, score=0.985 total time= 2.3min\n",
      "[CV 1/3] END ........................gamma=auto;, score=0.988 total time= 2.7min\n",
      "[CV 2/3] END ........................gamma=auto;, score=0.988 total time= 2.2min\n",
      "[CV 3/3] END ........................gamma=auto;, score=0.985 total time= 2.4min\n"
     ]
    },
    {
     "data": {
      "text/plain": [
       "GridSearchCV(cv=3, estimator=SVC(kernel='linear', random_state=42),\n",
       "             param_grid={'gamma': ['scale', 'auto']}, verbose=3.1)"
      ]
     },
     "execution_count": 36,
     "metadata": {},
     "output_type": "execute_result"
    }
   ],
   "source": [
    "estimators = {'gamma': ['scale',  'auto']}\n",
    "svc = SVC(kernel = 'linear', random_state = 42)\n",
    "\n",
    "svc_model = GridSearchCV(svc, estimators, cv = 3, verbose = 3.1)\n",
    "svc_model.fit(X_train_tfidv, y_train)"
   ]
  },
  {
   "cell_type": "code",
   "execution_count": 37,
   "id": "6922ca88-6edc-4ed7-aedd-2d0914028249",
   "metadata": {},
   "outputs": [
    {
     "data": {
      "text/plain": [
       "({'gamma': 'scale'}, 0.9730973813420624)"
      ]
     },
     "execution_count": 37,
     "metadata": {},
     "output_type": "execute_result"
    }
   ],
   "source": [
    "svc_model.best_params_, extra_trees_clf.best_score_"
   ]
  },
  {
   "cell_type": "code",
   "execution_count": 40,
   "id": "8c9b3661-64d7-419c-8521-d46c005db1d4",
   "metadata": {},
   "outputs": [
    {
     "data": {
      "text/plain": [
       "0.9879308581364427"
      ]
     },
     "execution_count": 40,
     "metadata": {},
     "output_type": "execute_result"
    }
   ],
   "source": [
    "svc_model.score(X_test_tfidv, y_test)"
   ]
  },
  {
   "cell_type": "markdown",
   "id": "cfe94d3d-f9d8-4a94-9ba0-c61d41f63f03",
   "metadata": {},
   "source": [
    "The support vector machine classifier achieved <b>98.79% accuracy</b> on the testing data. False positives were twice as common as false negatives, but articles were rarely misclassified. "
   ]
  },
  {
   "cell_type": "code",
   "execution_count": 39,
   "id": "1b0262f4-1bee-459c-8137-d5ac76fc2774",
   "metadata": {},
   "outputs": [
    {
     "data": {
      "image/png": "[encoded data removed]",
      "text/plain": [
       "<Figure size 640x480 with 2 Axes>"
      ]
     },
     "metadata": {},
     "output_type": "display_data"
    }
   ],
   "source": [
    "conf_matrix = confusion_matrix(y_test, svc_model.predict(X_test_tfidv))\n",
    "normalized_conf_matrix = conf_matrix / conf_matrix.astype(float).sum(axis = 1)[:, np.newaxis]\n",
    "\n",
    "f = sns.heatmap(normalized_conf_matrix, annot = True, fmt = '.2f')\n",
    "_ = f.set(title = 'Normalized Confusion Matrix of News Category Predictions', ylabel = 'Predicted Outcome', xlabel = 'True Outcome')"
   ]
  },
  {
   "cell_type": "markdown",
   "id": "a0adbacd-9748-4fd9-a36e-ed175e541f86",
   "metadata": {},
   "source": [
    "<h2>BERT Embeddings and Multi-layer Perceptron Classifier</h2>"
   ]
  },
  {
   "cell_type": "code",
   "execution_count": 62,
   "id": "481b933a-f9e8-4d74-ab27-15493e3c252b",
   "metadata": {},
   "outputs": [
    {
     "name": "stdout",
     "output_type": "stream",
     "text": [
      "Fitting 3 folds for each of 12 candidates, totalling 36 fits\n",
      "[CV 1/3] END batch_size=32, hidden_layer_sizes=(32,);, score=0.971 total time=  23.2s\n",
      "[CV 2/3] END batch_size=32, hidden_layer_sizes=(32,);, score=0.972 total time=  16.2s\n",
      "[CV 3/3] END batch_size=32, hidden_layer_sizes=(32,);, score=0.968 total time=  11.2s\n",
      "[CV 1/3] END batch_size=32, hidden_layer_sizes=(64,);, score=0.971 total time=  19.3s\n",
      "[CV 2/3] END batch_size=32, hidden_layer_sizes=(64,);, score=0.969 total time=  14.4s\n",
      "[CV 3/3] END batch_size=32, hidden_layer_sizes=(64,);, score=0.971 total time=  15.9s\n",
      "[CV 1/3] END batch_size=32, hidden_layer_sizes=(128,);, score=0.974 total time=  36.0s\n",
      "[CV 2/3] END batch_size=32, hidden_layer_sizes=(128,);, score=0.972 total time=  26.1s\n",
      "[CV 3/3] END batch_size=32, hidden_layer_sizes=(128,);, score=0.973 total time=  25.5s\n",
      "[CV 1/3] END batch_size=64, hidden_layer_sizes=(32,);, score=0.968 total time=   6.4s\n",
      "[CV 2/3] END batch_size=64, hidden_layer_sizes=(32,);, score=0.974 total time=  11.1s\n",
      "[CV 3/3] END batch_size=64, hidden_layer_sizes=(32,);, score=0.967 total time=   6.3s\n",
      "[CV 1/3] END batch_size=64, hidden_layer_sizes=(64,);, score=0.970 total time=   6.2s\n",
      "[CV 2/3] END batch_size=64, hidden_layer_sizes=(64,);, score=0.974 total time=  12.6s\n",
      "[CV 3/3] END batch_size=64, hidden_layer_sizes=(64,);, score=0.964 total time=   3.8s\n",
      "[CV 1/3] END batch_size=64, hidden_layer_sizes=(128,);, score=0.972 total time=  14.0s\n",
      "[CV 2/3] END batch_size=64, hidden_layer_sizes=(128,);, score=0.974 total time=  12.3s\n",
      "[CV 3/3] END batch_size=64, hidden_layer_sizes=(128,);, score=0.972 total time=  11.8s\n",
      "[CV 1/3] END batch_size=128, hidden_layer_sizes=(32,);, score=0.969 total time=   4.5s\n",
      "[CV 2/3] END batch_size=128, hidden_layer_sizes=(32,);, score=0.968 total time=   3.1s\n",
      "[CV 3/3] END batch_size=128, hidden_layer_sizes=(32,);, score=0.967 total time=   4.7s\n",
      "[CV 1/3] END batch_size=128, hidden_layer_sizes=(64,);, score=0.969 total time=   4.5s\n",
      "[CV 2/3] END batch_size=128, hidden_layer_sizes=(64,);, score=0.973 total time=   8.0s\n",
      "[CV 3/3] END batch_size=128, hidden_layer_sizes=(64,);, score=0.968 total time=   4.1s\n",
      "[CV 1/3] END batch_size=128, hidden_layer_sizes=(128,);, score=0.968 total time=   5.5s\n",
      "[CV 2/3] END batch_size=128, hidden_layer_sizes=(128,);, score=0.970 total time=   6.0s\n",
      "[CV 3/3] END batch_size=128, hidden_layer_sizes=(128,);, score=0.971 total time=  12.0s\n",
      "[CV 1/3] END batch_size=256, hidden_layer_sizes=(32,);, score=0.964 total time=   3.7s\n",
      "[CV 2/3] END batch_size=256, hidden_layer_sizes=(32,);, score=0.973 total time=   8.4s\n",
      "[CV 3/3] END batch_size=256, hidden_layer_sizes=(32,);, score=0.968 total time=   6.8s\n",
      "[CV 1/3] END batch_size=256, hidden_layer_sizes=(64,);, score=0.967 total time=   4.9s\n",
      "[CV 2/3] END batch_size=256, hidden_layer_sizes=(64,);, score=0.973 total time=   7.3s\n",
      "[CV 3/3] END batch_size=256, hidden_layer_sizes=(64,);, score=0.965 total time=   3.5s\n",
      "[CV 1/3] END batch_size=256, hidden_layer_sizes=(128,);, score=0.966 total time=   4.6s\n",
      "[CV 2/3] END batch_size=256, hidden_layer_sizes=(128,);, score=0.970 total time=   5.1s\n",
      "[CV 3/3] END batch_size=256, hidden_layer_sizes=(128,);, score=0.970 total time=   7.1s\n"
     ]
    },
    {
     "data": {
      "text/plain": [
       "GridSearchCV(cv=3,\n",
       "             estimator=MLPClassifier(early_stopping=True, random_state=42),\n",
       "             param_grid={'batch_size': [32, 64, 128, 256],\n",
       "                         'hidden_layer_sizes': [(32,), (64,), (128,)]},\n",
       "             verbose=3.1)"
      ]
     },
     "execution_count": 62,
     "metadata": {},
     "output_type": "execute_result"
    }
   ],
   "source": [
    "estimators = {'hidden_layer_sizes': [(32,), (64,), (128,)], 'batch_size': [32, 64, 128, 256]}\n",
    "\n",
    "mlp = MLPClassifier(solver = 'adam', random_state = 42, verbose = False, early_stopping = True, n_iter_no_change = 10)\n",
    "mlp_clf = GridSearchCV(mlp, estimators, cv = 3, verbose = 3.1)\n",
    "mlp_clf.fit(X_train_bert, y_train)"
   ]
  },
  {
   "cell_type": "code",
   "execution_count": 63,
   "id": "d78b2173-e415-465b-baca-95cfc1de4cdb",
   "metadata": {},
   "outputs": [
    {
     "data": {
      "text/plain": [
       "({'batch_size': 32, 'hidden_layer_sizes': (128,)}, 0.9729268957992362)"
      ]
     },
     "execution_count": 63,
     "metadata": {},
     "output_type": "execute_result"
    }
   ],
   "source": [
    "mlp_clf.best_params_, mlp_clf.best_score_"
   ]
  },
  {
   "cell_type": "code",
   "execution_count": 64,
   "id": "9b6fb0b0-2488-4e54-8272-479b45694281",
   "metadata": {},
   "outputs": [
    {
     "data": {
      "text/plain": [
       "0.9727932903753708"
      ]
     },
     "execution_count": 64,
     "metadata": {},
     "output_type": "execute_result"
    }
   ],
   "source": [
    "mlp_clf.score(X_test_bert, y_test)"
   ]
  },
  {
   "cell_type": "markdown",
   "id": "0108dc8b-878c-4503-ac44-9013c3a20616",
   "metadata": {},
   "source": [
    "The mutli-layer perceptron classifier achieved <b>97.28% accuracy</b> on the train data. Although errors were uncommon in all three of the models evaluated, the mlp model misclassified the most real news articles. This model had fewer false positives than the extra trees model, but more than the support vector machine classifier.  "
   ]
  },
  {
   "cell_type": "code",
   "execution_count": 66,
   "id": "51c6141c-b2c5-4b8c-98ba-223f512a6d99",
   "metadata": {},
   "outputs": [
    {
     "data": {
      "image/png": "[encoded data removed]",
      "text/plain": [
       "<Figure size 640x480 with 2 Axes>"
      ]
     },
     "metadata": {},
     "output_type": "display_data"
    }
   ],
   "source": [
    "conf_matrix = confusion_matrix(y_test, mlp_clf.predict(X_test_bert))\n",
    "normalized_conf_matrix = conf_matrix / conf_matrix.astype(float).sum(axis = 1)[:, np.newaxis]\n",
    "\n",
    "f = sns.heatmap(normalized_conf_matrix, annot = True, fmt = '.2f')\n",
    "_ = f.set(title = 'Normalized Confusion Matrix of News Category Predictions', ylabel = 'Predicted Outcome', xlabel = 'True Outcome')"
   ]
  },
  {
   "cell_type": "code",
   "execution_count": null,
   "id": "6f361ff4-35fc-400c-8f49-a27d4ce5ff72",
   "metadata": {},
   "outputs": [],
   "source": []
  }
 ],
 "metadata": {
  "kernelspec": {
   "display_name": "Python 3 (ipykernel)",
   "language": "python",
   "name": "python3"
  },
  "language_info": {
   "codemirror_mode": {
    "name": "ipython",
    "version": 3
   },
   "file_extension": ".py",
   "mimetype": "text/x-python",
   "name": "python",
   "nbconvert_exporter": "python",
   "pygments_lexer": "ipython3",
   "version": "3.8.13"
  }
 },
 "nbformat": 4,
 "nbformat_minor": 5
}
